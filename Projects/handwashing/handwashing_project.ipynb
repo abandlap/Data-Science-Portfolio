{
 "cells": [
  {
   "cell_type": "markdown",
   "metadata": {
    "dc": {
     "key": "13f090f9f0"
    },
    "deletable": false,
    "editable": false,
    "run_control": {
     "frozen": true
    },
    "tags": [
     "context"
    ]
   },
   "source": [
    "## 1. Meet Dr. Ignaz Semmelweis\n",
    "![Semmelweis Picture](Projects/handwashing/ignaz_semmelweis_1860.jpeg)"
    "<p>This is Dr. Ignaz Semmelweis, a Hungarian physician born in 1818 and active at the Vienna General Hospital. If Dr. Semmelweis looks troubled it's probably because he's thinking about <em>childbed fever</em>: A deadly disease affecting women that just have given birth. He is thinking about it because in the early 1840s at the Vienna General Hospital as many as 10% of the women giving birth die from it. He is thinking about it because he knows the cause of childbed fever: It's the contaminated hands of the doctors delivering the babies. And they won't listen to him and <em>wash their hands</em>!</p>\n",
    "<p>In this notebook, we're going to reanalyze the data that made Semmelweis discover the importance of <em>handwashing</em>. Let's start by looking at the data that made Semmelweis realize that something was wrong with the procedures at Vienna General Hospital.</p>"
   ]
  },
  {
   "cell_type": "markdown",
   "metadata": {},
   "source": [
    "**```Dataset:``` A yearly dataset of births and deaths of mothers in labor in 2 clinics.**"
   ]
  },
  {
   "cell_type": "code",
   "execution_count": 2,
   "metadata": {
    "dc": {
     "key": "13f090f9f0"
    },
    "tags": [
     "sample_code"
    ]
   },
   "outputs": [
    {
     "name": "stdout",
     "output_type": "stream",
     "text": [
      "    year  births  deaths    clinic\n",
      "0   1841    3036     237  clinic 1\n",
      "1   1842    3287     518  clinic 1\n",
      "2   1843    3060     274  clinic 1\n",
      "3   1844    3157     260  clinic 1\n",
      "4   1845    3492     241  clinic 1\n",
      "5   1846    4010     459  clinic 1\n",
      "6   1841    2442      86  clinic 2\n",
      "7   1842    2659     202  clinic 2\n",
      "8   1843    2739     164  clinic 2\n",
      "9   1844    2956      68  clinic 2\n",
      "10  1845    3241      66  clinic 2\n",
      "11  1846    3754     105  clinic 2\n"
     ]
    }
   ],
   "source": [
    "# importing modules\n",
    "import pandas as pd\n",
    "\n",
    "# Read datasets/yearly_deaths_by_clinic.csv into yearly\n",
    "yearly = pd.read_csv('datasets/yearly_deaths_by_clinic.csv')\n",
    "\n",
    "# Print out yearly\n",
    "print(yearly)"
   ]
  },
  {
   "cell_type": "markdown",
   "metadata": {
    "dc": {
     "key": "45ea098e15"
    },
    "deletable": false,
    "editable": false,
    "run_control": {
     "frozen": true
    },
    "tags": [
     "context"
    ]
   },
   "source": [
    "## 2. The alarming number of deaths\n",
    "<p>The table above shows the number of women giving birth at the two clinics at the Vienna General Hospital for the years 1841 to 1846. You'll notice that giving birth was very dangerous; an <em>alarming</em> number of women died as the result of childbirth, most of them from childbed fever.</p>\n",
    "<p>We see this more clearly if we look at the <em>proportion of deaths</em> out of the number of women giving birth. Let's zoom in on the proportion of deaths at Clinic 1.</p>"
   ]
  },
  {
   "cell_type": "code",
   "execution_count": 5,
   "metadata": {
    "dc": {
     "key": "45ea098e15"
    },
    "tags": [
     "sample_code"
    ]
   },
   "outputs": [
    {
     "name": "stdout",
     "output_type": "stream",
     "text": [
      "   year  births  deaths    clinic  proportion_deaths\n",
      "0  1841    3036     237  clinic 1           0.078063\n",
      "1  1842    3287     518  clinic 1           0.157591\n",
      "2  1843    3060     274  clinic 1           0.089542\n",
      "3  1844    3157     260  clinic 1           0.082357\n",
      "4  1845    3492     241  clinic 1           0.069015\n",
      "5  1846    4010     459  clinic 1           0.114464\n"
     ]
    }
   ],
   "source": [
    "# Calculate proportion of deaths per no. births\n",
    "yearly[\"proportion_deaths\"] = yearly[\"deaths\"] / yearly[\"births\"]\n",
    "\n",
    "# Extract clinic 1 data into yearly1 and clinic 2 data into yearly2\n",
    "yearly1 = yearly.loc[(yearly[\"clinic\"] == \"clinic 1\"), :]\n",
    "yearly2 = yearly.loc[(yearly[\"clinic\"] == \"clinic 2\"), :]\n",
    "\n",
    "# Print out yearly1\n",
    "print(yearly1)"
   ]
  },
  {
   "cell_type": "markdown",
   "metadata": {
    "dc": {
     "key": "2bc9206960"
    },
    "deletable": false,
    "editable": false,
    "run_control": {
     "frozen": true
    },
    "tags": [
     "context"
    ]
   },
   "source": [
    "## 3. Death at the clinics\n",
    "<p>If we now plot the proportion of deaths at both clinic 1 and clinic 2  we'll see a curious pattern...</p>"
   ]
  },
  {
   "cell_type": "code",
   "execution_count": 6,
   "metadata": {
    "dc": {
     "key": "2bc9206960"
    },
    "tags": [
     "sample_code"
    ]
   },
   "outputs": [
    {
     "data": {
      "text/plain": [
       "Text(0, 0.5, 'Proportion deaths')"
      ]
     },
     "execution_count": 6,
     "metadata": {},
     "output_type": "execute_result"
    },
    {
     "data": {
      "image/png": "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\n",
      "text/plain": [
       "<Figure size 432x288 with 1 Axes>"
      ]
     },
     "metadata": {
      "needs_background": "light"
     },
     "output_type": "display_data"
    }
   ],
   "source": [
    "# This makes plots appear in the notebook\n",
    "%matplotlib inline\n",
    "\n",
    "# Plot yearly proportion of deaths at the two clinics\n",
    "ax = yearly1.plot(x = 'year', y = 'proportion_deaths', label ='Yearly Proportion of Deaths (Clinic 1)')\n",
    "yearly2.plot(x = 'year', y = 'proportion_deaths' ,label = 'Yearly Proportion of Deaths (Clinic 2)', ax=ax)\n",
    "ax.set_xlabel('Year')\n",
    "ax.set_ylabel('Proportion deaths') "
   ]
  },
  {
   "cell_type": "markdown",
   "metadata": {
    "dc": {
     "key": "0c9fdbf550"
    },
    "deletable": false,
    "editable": false,
    "run_control": {
     "frozen": true
    },
    "tags": [
     "context"
    ]
   },
   "source": [
    "## 4. The handwashing begins\n",
    "<p>Why is the proportion of deaths constantly so much higher in Clinic 1? Semmelweis saw the same pattern and was puzzled and distressed. The only difference between the clinics was that many medical students served at Clinic 1, while mostly midwife students served at Clinic 2. While the midwives only tended to the women giving birth, the medical students also spent time in the autopsy rooms examining corpses. </p>\n",
    "<p>Semmelweis started to suspect that something on the corpses, spread from the hands of the medical students, caused childbed fever. So in a desperate attempt to stop the high mortality rates, he decreed: <em>Wash your hands!</em> This was an unorthodox and controversial request, nobody in Vienna knew about bacteria at this point in time. </p>\n",
    "<p>Let's load in monthly data from Clinic 1 to see if the handwashing had any effect.</p>"
   ]
  },
  {
   "cell_type": "markdown",
   "metadata": {},
   "source": [
    "**```Dataset:``` A monthly dataset of births and deaths of mothers in labor in clinic 1.**"
   ]
  },
  {
   "cell_type": "code",
   "execution_count": 7,
   "metadata": {
    "dc": {
     "key": "0c9fdbf550"
    },
    "tags": [
     "sample_code"
    ]
   },
   "outputs": [
    {
     "data": {
      "text/html": [
       "<div>\n",
       "<style scoped>\n",
       "    .dataframe tbody tr th:only-of-type {\n",
       "        vertical-align: middle;\n",
       "    }\n",
       "\n",
       "    .dataframe tbody tr th {\n",
       "        vertical-align: top;\n",
       "    }\n",
       "\n",
       "    .dataframe thead th {\n",
       "        text-align: right;\n",
       "    }\n",
       "</style>\n",
       "<table border=\"1\" class=\"dataframe\">\n",
       "  <thead>\n",
       "    <tr style=\"text-align: right;\">\n",
       "      <th></th>\n",
       "      <th>date</th>\n",
       "      <th>births</th>\n",
       "      <th>deaths</th>\n",
       "      <th>proportion_deaths</th>\n",
       "    </tr>\n",
       "  </thead>\n",
       "  <tbody>\n",
       "    <tr>\n",
       "      <th>0</th>\n",
       "      <td>1841-01-01</td>\n",
       "      <td>254</td>\n",
       "      <td>37</td>\n",
       "      <td>0.145669</td>\n",
       "    </tr>\n",
       "    <tr>\n",
       "      <th>1</th>\n",
       "      <td>1841-02-01</td>\n",
       "      <td>239</td>\n",
       "      <td>18</td>\n",
       "      <td>0.075314</td>\n",
       "    </tr>\n",
       "    <tr>\n",
       "      <th>2</th>\n",
       "      <td>1841-03-01</td>\n",
       "      <td>277</td>\n",
       "      <td>12</td>\n",
       "      <td>0.043321</td>\n",
       "    </tr>\n",
       "    <tr>\n",
       "      <th>3</th>\n",
       "      <td>1841-04-01</td>\n",
       "      <td>255</td>\n",
       "      <td>4</td>\n",
       "      <td>0.015686</td>\n",
       "    </tr>\n",
       "    <tr>\n",
       "      <th>4</th>\n",
       "      <td>1841-05-01</td>\n",
       "      <td>255</td>\n",
       "      <td>2</td>\n",
       "      <td>0.007843</td>\n",
       "    </tr>\n",
       "  </tbody>\n",
       "</table>\n",
       "</div>"
      ],
      "text/plain": [
       "        date  births  deaths  proportion_deaths\n",
       "0 1841-01-01     254      37           0.145669\n",
       "1 1841-02-01     239      18           0.075314\n",
       "2 1841-03-01     277      12           0.043321\n",
       "3 1841-04-01     255       4           0.015686\n",
       "4 1841-05-01     255       2           0.007843"
      ]
     },
     "execution_count": 7,
     "metadata": {},
     "output_type": "execute_result"
    }
   ],
   "source": [
    "# Read datasets/monthly_deaths.csv into monthly\n",
    "monthly = pd.read_csv('datasets/monthly_deaths.csv', parse_dates=['date'])\n",
    "\n",
    "# Calculate proportion of deaths per no. births\n",
    "monthly[\"proportion_deaths\"] = monthly['deaths']/monthly['births']\n",
    "\n",
    "# Print out the first rows in monthly\n",
    "monthly.head()"
   ]
  },
  {
   "cell_type": "markdown",
   "metadata": {
    "dc": {
     "key": "2da2a84119"
    },
    "deletable": false,
    "editable": false,
    "run_control": {
     "frozen": true
    },
    "tags": [
     "context"
    ]
   },
   "source": [
    "## 5. The effect of handwashing\n",
    "<p>With the data loaded we can now look at the proportion of deaths over time. In the plot below we haven't marked where obligatory handwashing started, but it reduced the proportion of deaths to such a degree that you should be able to spot it!</p>"
   ]
  },
  {
   "cell_type": "code",
   "execution_count": 8,
   "metadata": {
    "dc": {
     "key": "2da2a84119"
    },
    "tags": [
     "sample_code"
    ]
   },
   "outputs": [
    {
     "data": {
      "text/plain": [
       "Text(0, 0.5, 'Proportion of deaths')"
      ]
     },
     "execution_count": 8,
     "metadata": {},
     "output_type": "execute_result"
    },
    {
     "data": {
      "image/png": "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\n",
      "text/plain": [
       "<Figure size 432x288 with 1 Axes>"
      ]
     },
     "metadata": {
      "needs_background": "light"
     },
     "output_type": "display_data"
    }
   ],
   "source": [
    "# Plot monthly proportion of deaths\n",
    "ax = monthly.plot(x='date', y='proportion_deaths', label ='Monthly Proportion of Deaths')\n",
    "ax.set_xlabel('Year')\n",
    "ax.set_ylabel('Proportion of deaths')"
   ]
  },
  {
   "cell_type": "markdown",
   "metadata": {
    "dc": {
     "key": "518e95acc5"
    },
    "deletable": false,
    "editable": false,
    "run_control": {
     "frozen": true
    },
    "tags": [
     "context"
    ]
   },
   "source": [
    "## 6. The effect of handwashing highlighted\n",
    "<p>Starting from the summer of 1847 the proportion of deaths is drastically reduced and, yes, this was when Semmelweis made handwashing obligatory. </p>\n",
    "<p>The effect of handwashing is made even more clear if we highlight this in the graph.</p>"
   ]
  },
  {
   "cell_type": "code",
   "execution_count": 47,
   "metadata": {
    "dc": {
     "key": "518e95acc5"
    },
    "tags": [
     "sample_code"
    ]
   },
   "outputs": [
    {
     "data": {
      "text/plain": [
       "<matplotlib.text.Text at 0x7f1209e0e278>"
      ]
     },
     "execution_count": 47,
     "metadata": {},
     "output_type": "execute_result"
    },
    {
     "data": {
      "image/png": "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\n",
      "text/plain": [
       "<matplotlib.figure.Figure at 0x7f1210041cc0>"
      ]
     },
     "metadata": {},
     "output_type": "display_data"
    }
   ],
   "source": [
    "# Date when handwashing was made mandatory\n",
    "import pandas as pd\n",
    "handwashing_start = pd.to_datetime('1847-06-01')\n",
    "\n",
    "# Split monthly into before and after handwashing_start\n",
    "before_washing = monthly.loc[monthly['date'] < handwashing_start]\n",
    "after_washing = monthly.loc[monthly['date'] > handwashing_start]\n",
    "\n",
    "# Plot monthly proportion of deaths before and after handwashing\n",
    "ax = before_washing.plot(x='date', y='proportion_deaths', label ='Before Washing')\n",
    "after_washing.plot(x='date', y='proportion_deaths', label ='After Washing', ax = ax)\n",
    "ax.set_xlabel('Year')\n",
    "ax.set_ylabel('Proportion deaths')\n",
    "ax.set_title('Monthly Proportion of Deaths')"
   ]
  },
  {
   "cell_type": "markdown",
   "metadata": {
    "dc": {
     "key": "586a9f9803"
    },
    "deletable": false,
    "editable": false,
    "run_control": {
     "frozen": true
    },
    "tags": [
     "context"
    ]
   },
   "source": [
    "## 7. More handwashing, fewer deaths?\n",
    "<p>Again, the graph shows that handwashing had a huge effect. How much did it reduce the monthly proportion of deaths on average?</p>"
   ]
  },
  {
   "cell_type": "code",
   "execution_count": 63,
   "metadata": {
    "dc": {
     "key": "586a9f9803"
    },
    "tags": [
     "sample_code"
    ]
   },
   "outputs": [
    {
     "data": {
      "text/plain": [
       "-0.08401825915965422"
      ]
     },
     "execution_count": 63,
     "metadata": {},
     "output_type": "execute_result"
    }
   ],
   "source": [
    "# Difference in mean monthly proportion of deaths due to handwashing\n",
    "before_proportion = before_washing['proportion_deaths']\n",
    "after_proportion = after_washing['proportion_deaths']\n",
    "mean_diff = after_proportion.mean() - before_proportion.mean()\n",
    "mean_diff"
   ]
  },
  {
   "cell_type": "markdown",
   "metadata": {
    "dc": {
     "key": "d8ff65292a"
    },
    "deletable": false,
    "editable": false,
    "run_control": {
     "frozen": true
    },
    "tags": [
     "context"
    ]
   },
   "source": [
    "## 8. A Bootstrap analysis of Semmelweis handwashing data\n",
    "<p>It reduced the proportion of deaths by around 8 percentage points! From 10% on average to just 2% (which is still a high number by modern standards). </p>\n",
    "<p>To get a feeling for the uncertainty around how much handwashing reduces mortalities we could look at a confidence interval (here calculated using the bootstrap method).</p>"
   ]
  },
  {
   "cell_type": "code",
   "execution_count": 66,
   "metadata": {
    "dc": {
     "key": "d8ff65292a"
    },
    "tags": [
     "sample_code"
    ]
   },
   "outputs": [
    {
     "data": {
      "text/plain": [
       "0.025    0.067879\n",
       "0.975    0.101745\n",
       "dtype: float64"
      ]
     },
     "execution_count": 66,
     "metadata": {},
     "output_type": "execute_result"
    }
   ],
   "source": [
    "# A bootstrap analysis of the reduction of deaths due to handwashing\n",
    "boot_mean_diff = []\n",
    "for i in range(3000):\n",
    "    boot_before = before_proportion.sample(frac=1, replace=True)\n",
    "    boot_after = after_proportion.sample(frac=1, replace=True)\n",
    "    boot_mean_diff.append(boot_before.mean() - boot_after.mean())\n",
    "\n",
    "# Calculating a 95% confidence interval from boot_mean_diff \n",
    "confidence_interval = pd.Series(boot_mean_diff).quantile([0.025, 0.975])\n",
    "confidence_interval"
   ]
  },
  {
   "cell_type": "markdown",
   "metadata": {
    "dc": {
     "key": "0645423069"
    },
    "deletable": false,
    "editable": false,
    "run_control": {
     "frozen": true
    },
    "tags": [
     "context"
    ]
   },
   "source": [
    "## 9. The fate of Dr. Semmelweis\n",
    "<p>So handwashing reduced the proportion of deaths by between 6.7 and 10 percentage points, according to a 95% confidence interval. All in all, it would seem that Semmelweis had solid evidence that handwashing was a simple but highly effective procedure that could save many lives.</p>\n",
    "<p>The tragedy is that, despite the evidence, Semmelweis' theory — that childbed fever was caused by some \"substance\" (what we today know as <em>bacteria</em>) from autopsy room corpses — was ridiculed by contemporary scientists. The medical community largely rejected his discovery and in 1849 he was forced to leave the Vienna General Hospital for good.</p>\n",
    "<p>One reason for this was that statistics and statistical arguments were uncommon in medical science in the 1800s. Semmelweis only published his data as long tables of raw data, but he didn't show any graphs nor confidence intervals. If he would have had access to the analysis we've just put together he might have been more successful in getting the Viennese doctors to wash their hands.</p>"
   ]
  },
  {
   "cell_type": "code",
   "execution_count": 2,
   "metadata": {
    "dc": {
     "key": "0645423069"
    },
    "tags": [
     "sample_code"
    ]
   },
   "outputs": [],
   "source": [
    "# The data Semmelweis collected points to that:\n",
    "doctors_should_wash_their_hands = True"
   ]
  }
 ],
 "metadata": {
  "kernelspec": {
   "display_name": "Python 3",
   "language": "python",
   "name": "python3"
  },
  "language_info": {
   "codemirror_mode": {
    "name": "ipython",
    "version": 3
   },
   "file_extension": ".py",
   "mimetype": "text/x-python",
   "name": "python",
   "nbconvert_exporter": "python",
   "pygments_lexer": "ipython3",
   "version": "3.7.3"
  }
 },
 "nbformat": 4,
 "nbformat_minor": 2
}
